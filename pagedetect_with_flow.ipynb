{
 "cells": [
  {
   "cell_type": "markdown",
   "metadata": {},
   "source": [
    "# Image classification "
   ]
  },
  {
   "cell_type": "code",
   "execution_count": 1,
   "metadata": {},
   "outputs": [],
   "source": [
    "import os\n",
    "import numpy as np\n",
    "import matplotlib.pyplot as plt\n",
    "from tensorflow.keras.preprocessing.image import ImageDataGenerator, load_img, img_to_array\n",
    "from tensorflow.keras.applications import MobileNetV2\n",
    "from tensorflow.keras.models import Sequential\n",
    "from tensorflow.keras.layers import Dense, GlobalAveragePooling2D\n",
    "from tensorflow.keras.optimizers import Adam\n",
    "from tensorflow.keras.models import load_model"
   ]
  },
  {
   "cell_type": "markdown",
   "metadata": {},
   "source": [
    "### Dataset preprocessing "
   ]
  },
  {
   "cell_type": "code",
   "execution_count": 2,
   "metadata": {},
   "outputs": [
    {
     "name": "stdout",
     "output_type": "stream",
     "text": [
      "Found 75 images belonging to 8 classes.\n",
      "Found 16 images belonging to 8 classes.\n"
     ]
    }
   ],
   "source": [
    "dataset_path = \"data_set\"\n",
    "img_size = (224, 224)\n",
    "batch_size = 8\n",
    "\n",
    "datagen = ImageDataGenerator(\n",
    "    rescale=1./255,\n",
    "    validation_split=0.2,\n",
    "    rotation_range=5,\n",
    "    zoom_range=0.1,\n",
    "    brightness_range=[0.9, 1.1]\n",
    ")\n",
    "\n",
    "train_data = datagen.flow_from_directory(\n",
    "    dataset_path,\n",
    "    target_size=img_size,\n",
    "    batch_size=batch_size,\n",
    "    class_mode='categorical',\n",
    "    subset='training'\n",
    ")\n",
    "\n",
    "val_data = datagen.flow_from_directory(\n",
    "    dataset_path,\n",
    "    target_size=img_size,\n",
    "    batch_size=batch_size,\n",
    "    class_mode='categorical',\n",
    "    subset='validation'\n",
    ")"
   ]
  },
  {
   "cell_type": "markdown",
   "metadata": {},
   "source": [
    "### Model building"
   ]
  },
  {
   "cell_type": "code",
   "execution_count": 3,
   "metadata": {},
   "outputs": [],
   "source": [
    "base_model = MobileNetV2(include_top=False, input_shape=(224, 224, 3), weights='imagenet')\n",
    "base_model.trainable = False  # Freeze base model\n",
    "\n",
    "model = Sequential([\n",
    "    base_model,\n",
    "    GlobalAveragePooling2D(),\n",
    "    Dense(128, activation='relu'),\n",
    "    Dense(train_data.num_classes, activation='softmax')\n",
    "])\n",
    "\n",
    "model.compile(optimizer=Adam(learning_rate=0.001), loss='categorical_crossentropy', metrics=['accuracy'])\n"
   ]
  },
  {
   "cell_type": "markdown",
   "metadata": {},
   "source": [
    "### Model training"
   ]
  },
  {
   "cell_type": "code",
   "execution_count": 4,
   "metadata": {},
   "outputs": [
    {
     "name": "stderr",
     "output_type": "stream",
     "text": [
      "d:\\int2\\venv\\Lib\\site-packages\\keras\\src\\trainers\\data_adapters\\py_dataset_adapter.py:121: UserWarning: Your `PyDataset` class should call `super().__init__(**kwargs)` in its constructor. `**kwargs` can include `workers`, `use_multiprocessing`, `max_queue_size`. Do not pass these arguments to `fit()`, as they will be ignored.\n",
      "  self._warn_if_super_not_called()\n"
     ]
    },
    {
     "name": "stdout",
     "output_type": "stream",
     "text": [
      "Epoch 1/10\n",
      "\u001b[1m10/10\u001b[0m \u001b[32m━━━━━━━━━━━━━━━━━━━━\u001b[0m\u001b[37m\u001b[0m \u001b[1m0s\u001b[0m 628ms/step - accuracy: 0.2223 - loss: 2.3391"
     ]
    },
    {
     "name": "stderr",
     "output_type": "stream",
     "text": [
      "d:\\int2\\venv\\Lib\\site-packages\\keras\\src\\trainers\\data_adapters\\py_dataset_adapter.py:121: UserWarning: Your `PyDataset` class should call `super().__init__(**kwargs)` in its constructor. `**kwargs` can include `workers`, `use_multiprocessing`, `max_queue_size`. Do not pass these arguments to `fit()`, as they will be ignored.\n",
      "  self._warn_if_super_not_called()\n"
     ]
    },
    {
     "name": "stdout",
     "output_type": "stream",
     "text": [
      "\u001b[1m10/10\u001b[0m \u001b[32m━━━━━━━━━━━━━━━━━━━━\u001b[0m\u001b[37m\u001b[0m \u001b[1m15s\u001b[0m 1s/step - accuracy: 0.2348 - loss: 2.2894 - val_accuracy: 0.5625 - val_loss: 1.2832\n",
      "Epoch 2/10\n",
      "\u001b[1m10/10\u001b[0m \u001b[32m━━━━━━━━━━━━━━━━━━━━\u001b[0m\u001b[37m\u001b[0m \u001b[1m6s\u001b[0m 551ms/step - accuracy: 0.6994 - loss: 0.9971 - val_accuracy: 0.7500 - val_loss: 0.7058\n",
      "Epoch 3/10\n",
      "\u001b[1m10/10\u001b[0m \u001b[32m━━━━━━━━━━━━━━━━━━━━\u001b[0m\u001b[37m\u001b[0m \u001b[1m6s\u001b[0m 558ms/step - accuracy: 0.9387 - loss: 0.3394 - val_accuracy: 0.8125 - val_loss: 0.5096\n",
      "Epoch 4/10\n",
      "\u001b[1m10/10\u001b[0m \u001b[32m━━━━━━━━━━━━━━━━━━━━\u001b[0m\u001b[37m\u001b[0m \u001b[1m5s\u001b[0m 547ms/step - accuracy: 0.9876 - loss: 0.2641 - val_accuracy: 0.7500 - val_loss: 0.6428\n",
      "Epoch 5/10\n",
      "\u001b[1m10/10\u001b[0m \u001b[32m━━━━━━━━━━━━━━━━━━━━\u001b[0m\u001b[37m\u001b[0m \u001b[1m6s\u001b[0m 560ms/step - accuracy: 1.0000 - loss: 0.1425 - val_accuracy: 0.7500 - val_loss: 0.4790\n",
      "Epoch 6/10\n",
      "\u001b[1m10/10\u001b[0m \u001b[32m━━━━━━━━━━━━━━━━━━━━\u001b[0m\u001b[37m\u001b[0m \u001b[1m6s\u001b[0m 583ms/step - accuracy: 0.9914 - loss: 0.1055 - val_accuracy: 0.9375 - val_loss: 0.3835\n",
      "Epoch 7/10\n",
      "\u001b[1m10/10\u001b[0m \u001b[32m━━━━━━━━━━━━━━━━━━━━\u001b[0m\u001b[37m\u001b[0m \u001b[1m6s\u001b[0m 610ms/step - accuracy: 1.0000 - loss: 0.0673 - val_accuracy: 0.8750 - val_loss: 0.4722\n",
      "Epoch 8/10\n",
      "\u001b[1m10/10\u001b[0m \u001b[32m━━━━━━━━━━━━━━━━━━━━\u001b[0m\u001b[37m\u001b[0m \u001b[1m6s\u001b[0m 642ms/step - accuracy: 1.0000 - loss: 0.0443 - val_accuracy: 0.8125 - val_loss: 0.3900\n",
      "Epoch 9/10\n",
      "\u001b[1m10/10\u001b[0m \u001b[32m━━━━━━━━━━━━━━━━━━━━\u001b[0m\u001b[37m\u001b[0m \u001b[1m6s\u001b[0m 561ms/step - accuracy: 1.0000 - loss: 0.0320 - val_accuracy: 0.8750 - val_loss: 0.3478\n",
      "Epoch 10/10\n",
      "\u001b[1m10/10\u001b[0m \u001b[32m━━━━━━━━━━━━━━━━━━━━\u001b[0m\u001b[37m\u001b[0m \u001b[1m6s\u001b[0m 582ms/step - accuracy: 1.0000 - loss: 0.0341 - val_accuracy: 0.8750 - val_loss: 0.4563\n"
     ]
    },
    {
     "data": {
      "text/plain": [
       "<keras.src.callbacks.history.History at 0x25a55dfde10>"
      ]
     },
     "execution_count": 4,
     "metadata": {},
     "output_type": "execute_result"
    }
   ],
   "source": [
    "model.fit(train_data, validation_data=val_data, epochs=10)\n"
   ]
  },
  {
   "cell_type": "code",
   "execution_count": null,
   "metadata": {},
   "outputs": [],
   "source": []
  },
  {
   "cell_type": "code",
   "execution_count": 5,
   "metadata": {},
   "outputs": [
    {
     "name": "stderr",
     "output_type": "stream",
     "text": [
      "WARNING:absl:You are saving your model as an HDF5 file via `model.save()` or `keras.saving.save_model(model)`. This file format is considered legacy. We recommend using instead the native Keras format, e.g. `model.save('my_model.keras')` or `keras.saving.save_model(model, 'my_model.keras')`. \n"
     ]
    }
   ],
   "source": [
    "model.save(\"youtube_page_classifier.h5\")"
   ]
  },
  {
   "cell_type": "markdown",
   "metadata": {},
   "source": [
    "### Prediction fuction"
   ]
  },
  {
   "cell_type": "code",
   "execution_count": 6,
   "metadata": {},
   "outputs": [],
   "source": [
    "folder_to_logical = {\n",
    "    \"001_login\": \"login\",\n",
    "    \"002_home\": \"home\",\n",
    "    \"004_channel\": \"channel\",\n",
    "    \"0031_search\": \"search\",\n",
    "    \"0032_history\": \"history\",\n",
    "    \"0032_music\": \"music\",\n",
    "    \"0033_shorts\": \"shorts\",\n",
    "    \"0034_Video_Page\": \"video_page\"\n",
    "}\n",
    "\n",
    "\n",
    "\n",
    "\n",
    "def predict_image(image_path):\n",
    "    img = load_img(image_path, target_size=img_size)\n",
    "    img_array = img_to_array(img) / 255.0\n",
    "    img_array = np.expand_dims(img_array, axis=0)\n",
    "    prediction = model.predict(img_array)\n",
    "    class_idx = np.argmax(prediction)\n",
    "    confidence = np.max(prediction)\n",
    "\n",
    "    class_labels = list(train_data.class_indices.keys())  # like ['0032_music', ...]\n",
    "    predicted_folder = class_labels[class_idx]\n",
    "    predicted_label = folder_to_logical.get(predicted_folder, \"unknown\")\n",
    "\n",
    "    print(f\"Predicted Page Type: {predicted_label} (Confidence: {confidence:.2f})\")\n",
    "    return predicted_label \n"
   ]
  },
  {
   "cell_type": "markdown",
   "metadata": {},
   "source": [
    "### Result"
   ]
  },
  {
   "cell_type": "code",
   "execution_count": null,
   "metadata": {},
   "outputs": [
    {
     "name": "stdout",
     "output_type": "stream",
     "text": [
      "\u001b[1m1/1\u001b[0m \u001b[32m━━━━━━━━━━━━━━━━━━━━\u001b[0m\u001b[37m\u001b[0m \u001b[1m0s\u001b[0m 47ms/step\n",
      "Predicted Page Type: login (Confidence: 0.91)\n"
     ]
    }
   ],
   "source": [
    "start_page_detected = predict_image(\"test1.png\")  \n",
    "\n",
    "\n"
   ]
  },
  {
   "cell_type": "markdown",
   "id": "e1a27439",
   "metadata": {},
   "source": [
    "\n",
    "## Navigation Flow \n",
    "\n"
   ]
  },
  {
   "cell_type": "code",
   "execution_count": 23,
   "id": "2a92fa33",
   "metadata": {},
   "outputs": [
    {
     "name": "stdout",
     "output_type": "stream",
     "text": [
      "\n",
      "Navigation Path from 'login' to 'history':\n",
      "login -> home -> history\n"
     ]
    }
   ],
   "source": [
    "\n",
    "import collections\n",
    "destination_page = \"history\"\n",
    "\n",
    "\n",
    "youtube_map = {\n",
    "    'login': ['home'],\n",
    "    'home': ['search', 'history', 'music', 'shorts', 'video_page', 'channel'],\n",
    "    'channel': ['home', 'video_page'],\n",
    "    'search': ['video_page', 'channel', 'shorts', 'home'],\n",
    "    'history': ['video_page', 'home'],\n",
    "    'music': ['home', 'video_page'],\n",
    "    'shorts': ['home', 'video_page', 'channel'],\n",
    "    'video_page': ['home', 'channel', 'shorts']\n",
    "}\n",
    "\n",
    "# BFS\n",
    "def find_shortest_path(graph, start, end):\n",
    "    if start not in graph or end not in graph:\n",
    "        return None\n",
    "    queue = collections.deque([(start, [start])])\n",
    "    visited = {start}\n",
    "    while queue:\n",
    "        current_node, path = queue.popleft()\n",
    "        for neighbor in graph.get(current_node, []):\n",
    "            if neighbor not in visited:\n",
    "                visited.add(neighbor)\n",
    "                new_path = list(path)\n",
    "                new_path.append(neighbor)\n",
    "                if neighbor == end:\n",
    "                    return new_path\n",
    "                queue.append((neighbor, new_path))\n",
    "    return None\n",
    "\n",
    "\n",
    "path = find_shortest_path(youtube_map, start_page_detected, destination_page)\n",
    "\n",
    "if path:\n",
    "    print(f\"\\nNavigation Path from '{start_page_detected}' to '{destination_page}':\")\n",
    "    print(\" -> \".join(path))\n",
    "else:\n",
    "    print(f\"\\n No valid path found from '{start_page_detected}' to '{destination_page}'.\")\n",
    "\n",
    "\n"
   ]
  }
 ],
 "metadata": {
  "kernelspec": {
   "display_name": "venv",
   "language": "python",
   "name": "python3"
  },
  "language_info": {
   "codemirror_mode": {
    "name": "ipython",
    "version": 3
   },
   "file_extension": ".py",
   "mimetype": "text/x-python",
   "name": "python",
   "nbconvert_exporter": "python",
   "pygments_lexer": "ipython3",
   "version": "3.11.9"
  }
 },
 "nbformat": 4,
 "nbformat_minor": 2
}
